{
 "cells": [
  {
   "cell_type": "code",
   "execution_count": 1,
   "id": "64dd53dc",
   "metadata": {},
   "outputs": [],
   "source": [
    "import pandas as pd\n",
    "import numpy as np\n",
    "import os"
   ]
  },
  {
   "cell_type": "code",
   "execution_count": null,
   "id": "5cc238b0",
   "metadata": {},
   "outputs": [],
   "source": [
    "# Import datsets\n",
    "df_train=pd.read_csv('../data/processed/train.csv')\n",
    "df_test=pd.read_csv('../data/processed/test.csv')"
   ]
  },
  {
   "cell_type": "code",
   "execution_count": null,
   "id": "61dbceec",
   "metadata": {},
   "outputs": [],
   "source": [
    "# Seperate independent features and dependent feature\n",
    "X=df_train.drop('count', axis=1).values\n",
    "y=df_train['count'].values.reshape(-1,1)\n",
    "X_test=df_test.drop('count', axis=1, errors='ignore').values"
   ]
  },
  {
   "cell_type": "code",
   "execution_count": null,
   "id": "728c0eae",
   "metadata": {},
   "outputs": [],
   "source": [
    "# Train, test split\n",
    "np.random.seed(42)\n",
    "n_samples=X.shape[0]\n",
    "indices=np.random.permutation(n_samples)\n",
    "val_size=int(n_samples*0.2)\n",
    "val_idx=indices[:val_size]\n",
    "train_idx=indices[val_size:]\n",
    "x_train, x_val, y_train, y_val=X[train_idx], X[val_idx], y[train_idx], y[val_idx]"
   ]
  },
  {
   "cell_type": "code",
   "execution_count": null,
   "id": "7ed7ce09",
   "metadata": {},
   "outputs": [],
   "source": []
  }
 ],
 "metadata": {
  "kernelspec": {
   "display_name": "venv",
   "language": "python",
   "name": "python3"
  },
  "language_info": {
   "codemirror_mode": {
    "name": "ipython",
    "version": 3
   },
   "file_extension": ".py",
   "mimetype": "text/x-python",
   "name": "python",
   "nbconvert_exporter": "python",
   "pygments_lexer": "ipython3",
   "version": "3.12.3"
  }
 },
 "nbformat": 4,
 "nbformat_minor": 5
}

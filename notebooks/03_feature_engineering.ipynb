{
 "cells": [
  {
   "cell_type": "code",
   "execution_count": 9,
   "id": "c9aa9d11",
   "metadata": {},
   "outputs": [],
   "source": [
    "import pandas as pd\n",
    "import numpy as np"
   ]
  },
  {
   "cell_type": "code",
   "execution_count": null,
   "id": "155734e7",
   "metadata": {},
   "outputs": [],
   "source": [
    "# Read data\n",
    "df=pd.read_csv('../data/train.csv')"
   ]
  },
  {
   "cell_type": "code",
   "execution_count": null,
   "id": "d31fe9a1",
   "metadata": {},
   "outputs": [],
   "source": [
    "# Convert datetime to pandas datetime and set it as index\n",
    "df['datetime']=pd.to_datetime(df['datetime'])\n",
    "df.set_index('datetime', inplace=True)"
   ]
  },
  {
   "cell_type": "code",
   "execution_count": 8,
   "id": "053b8ea9",
   "metadata": {},
   "outputs": [],
   "source": [
    "# Split datetime into its constituents parts\n",
    "df['hour']=df.index.hour\n",
    "df['dayofweek']=df.index.dayofweek\n",
    "df['month']=df.index.month\n",
    "df['year']=df.index.year"
   ]
  },
  {
   "cell_type": "code",
   "execution_count": null,
   "id": "62814b16",
   "metadata": {},
   "outputs": [],
   "source": [
    "# Mkae hour and nonth to cyclic features using trignometric functions\n",
    "df['hour_sin']=np.sin((2*np.pi*df['hour'])/24)\n",
    "df['hour_cos']=np.cos((2*np.pi*df['hour'])/24)\n",
    "df['month_sin']=np.sin((2*np.pi*df['month'])/12)\n",
    "df['month_cos']=np.cos((2*np.pi*df['month'])/12)"
   ]
  },
  {
   "cell_type": "code",
   "execution_count": 10,
   "id": "02375d2d",
   "metadata": {},
   "outputs": [],
   "source": [
    "# Extract more insights from the time data\n",
    "df['is_weekend']=df['dayofweek'].apply(lambda x: 1 if x >= 5 else 0)\n",
    "df['is_peak_commute']=df['hour'].isin([7, 8, 9, 17, 18, 19]).astype(int)"
   ]
  }
 ],
 "metadata": {
  "kernelspec": {
   "display_name": "venv",
   "language": "python",
   "name": "python3"
  },
  "language_info": {
   "codemirror_mode": {
    "name": "ipython",
    "version": 3
   },
   "file_extension": ".py",
   "mimetype": "text/x-python",
   "name": "python",
   "nbconvert_exporter": "python",
   "pygments_lexer": "ipython3",
   "version": "3.12.3"
  }
 },
 "nbformat": 4,
 "nbformat_minor": 5
}
